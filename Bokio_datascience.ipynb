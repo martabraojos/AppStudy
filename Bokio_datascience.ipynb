{
 "cells": [
  {
   "cell_type": "code",
   "execution_count": 1,
   "metadata": {
    "collapsed": true
   },
   "outputs": [],
   "source": [
    "#I import the libraries I may need\n",
    "\n",
    "import numpy as np\n",
    "import pandas as pd\n",
    "import matplotlib.pyplot as plt\n",
    "import sklearn as skl\n",
    "import json\n",
    "import gzip"
   ]
  },
  {
   "cell_type": "markdown",
   "metadata": {},
   "source": [
    "#### Loading and preparing the dataset"
   ]
  },
  {
   "cell_type": "code",
   "execution_count": 2,
   "metadata": {},
   "outputs": [
    {
     "name": "stdout",
     "output_type": "stream",
     "text": [
      "<class 'gzip.GzipFile'>\n"
     ]
    }
   ],
   "source": [
    "f = gzip.open(\"C:/Users/Marta/Desktop/Bokio_datascience/Bokio_datascience_data.gz\", \"rb\")\n",
    "print(type(f))"
   ]
  },
  {
   "cell_type": "code",
   "execution_count": 3,
   "metadata": {},
   "outputs": [
    {
     "data": {
      "text/plain": [
       "str"
      ]
     },
     "execution_count": 3,
     "metadata": {},
     "output_type": "execute_result"
    }
   ],
   "source": [
    "#Opening the file, it is a string \n",
    "with gzip.open(\"C:/Users/Marta/Desktop/Bokio_datascience/Bokio_datascience_data.gz\", \"rb\") as f:\n",
    "    data = json.loads(json.dumps(f.read().decode(\"ascii\")))\n",
    "type(data)"
   ]
  },
  {
   "cell_type": "code",
   "execution_count": 4,
   "metadata": {},
   "outputs": [
    {
     "name": "stdout",
     "output_type": "stream",
     "text": [
      "{\"timestamp\": 1422805310166, \"event_type\": \"Button Tap\", \"client_id\": \"26a27236a1\"}\n",
      "{\"timestamp\": 1422805401651, \"event_type\": \"ViewLoaded\", \"client_id\": \"26a27236a1\"}\n",
      "{\"timestamp\": 1422805451625, \"event_type\": \"Vote\", \"client_id\": \"26a27236a1\"}\n",
      "{\"timestamp\": 1422805451636, \"event_type\": \"Vote\", \"client_id\": \"26a27236a1\"}\n",
      "{\"timestamp\": 1422805427334, \"event_type\": \"ViewLoaded\", \"client_id\": \"26a27236a1\"}\n",
      "{\"timestamp\": 1422805451644, \"event_type\": \"Vote\", \"client_id\": \"26a27236a1\"}\n",
      "{\"timestamp\": 1422806532210, \"event_type\": \"session.stop\", \"client_id\": \"26a27236a1\"}\n",
      "{\"timestamp\": 1422750697909,\n",
      "\n",
      "\n",
      "\"f64a315b07\"}\n",
      "{\"timestamp\": 1422820512616, \"event_type\": \"session.resume\", \"client_id\": \"f64a315b07\"}\n",
      "{\"timestamp\": 1422820512611, \"event_type\": \"ViewLoaded\", \"client_id\": \"f64a315b07\"}\n",
      "{\"timestamp\": 1422820620599, \"event_type\": \"session.resume\", \"client_id\": \"f64a315b07\"}\n",
      "{\"timestamp\": 1422820620571, \"event_type\": \"session.pause\", \"client_id\": \"f64a315b07\"}\n",
      "{\"timestamp\": 1422820590296, \"event_type\": \"Ads\", \"client_id\": \"f64a315b07\"}\n",
      "{\"timestamp\": 1422820590292, \"event_type\": \"ViewLoaded\", \"client_id\": \"f64a315b07\"}\n",
      "{\"timestamp\": 1422820589438, \"event_type\": \"Ads\", \"client_id\": \"f64a315b07\"}\n",
      "\n"
     ]
    }
   ],
   "source": [
    "#Lets have a look. It is a string, we want to end up with a list of dictionaries\n",
    "print(data[0:600])\n",
    "print('\\n')\n",
    "print(data[-600:-1])\n",
    "#print(data[-1])"
   ]
  },
  {
   "cell_type": "code",
   "execution_count": 5,
   "metadata": {
    "collapsed": true
   },
   "outputs": [],
   "source": [
    "#We split into a list\n",
    "datalist = data.split('\\n')"
   ]
  },
  {
   "cell_type": "code",
   "execution_count": 6,
   "metadata": {},
   "outputs": [
    {
     "name": "stdout",
     "output_type": "stream",
     "text": [
      "{\"timestamp\": 1422805310166, \"event_type\": \"Button Tap\", \"client_id\": \"26a27236a1\"} \n",
      " {\n"
     ]
    }
   ],
   "source": [
    "#Lets check the beggining and the end; we do not like the end.\n",
    "print(datalist[0],'\\n',datalist[-1])"
   ]
  },
  {
   "cell_type": "code",
   "execution_count": 7,
   "metadata": {},
   "outputs": [
    {
     "name": "stdout",
     "output_type": "stream",
     "text": [
      "{\"timestamp\": 1422805310166, \"event_type\": \"Button Tap\", \"client_id\": \"26a27236a1\"} \n",
      " {\"timestamp\": 1422820589438, \"event_type\": \"Ads\", \"client_id\": \"f64a315b07\"}\n"
     ]
    }
   ],
   "source": [
    "#Removing the last one, and checking it looks ok now\n",
    "datalist = datalist[:-1]\n",
    "print(datalist[0],'\\n',datalist[-1])"
   ]
  },
  {
   "cell_type": "code",
   "execution_count": 8,
   "metadata": {
    "collapsed": true
   },
   "outputs": [],
   "source": [
    "#We change the data to a list of dictionaries #List comprenhension\n",
    "import ast \n",
    "dictlist = [ast.literal_eval(i) for i in datalist]"
   ]
  },
  {
   "cell_type": "code",
   "execution_count": 9,
   "metadata": {},
   "outputs": [
    {
     "name": "stdout",
     "output_type": "stream",
     "text": [
      "{'timestamp': 1422805310166, 'event_type': 'Button Tap', 'client_id': '26a27236a1'} \n",
      " {'timestamp': 1422820589438, 'event_type': 'Ads', 'client_id': 'f64a315b07'}\n"
     ]
    }
   ],
   "source": [
    "#Checking all is at it should...\n",
    "print(dictlist[0],'\\n',dictlist[-1])"
   ]
  },
  {
   "cell_type": "code",
   "execution_count": 34,
   "metadata": {},
   "outputs": [
    {
     "name": "stdout",
     "output_type": "stream",
     "text": [
      "    client_id  event_type      timestamp\n",
      "0  26a27236a1  Button Tap  1422805310166\n",
      "1  26a27236a1  ViewLoaded  1422805401651\n",
      "2  26a27236a1        Vote  1422805451625\n",
      "3  26a27236a1        Vote  1422805451636\n",
      "4  26a27236a1  ViewLoaded  1422805427334 \n",
      "\n",
      "         client_id      event_type      timestamp\n",
      "99994  f64a315b07  session.resume  1422820620599\n",
      "99995  f64a315b07   session.pause  1422820620571\n",
      "99996  f64a315b07             Ads  1422820590296\n",
      "99997  f64a315b07      ViewLoaded  1422820590292\n",
      "99998  f64a315b07             Ads  1422820589438 \n",
      "\n",
      "<class 'pandas.core.frame.DataFrame'> \n",
      " (99999, 3) \n",
      " client_id     object\n",
      "event_type    object\n",
      "timestamp      int64\n",
      "dtype: object\n"
     ]
    }
   ],
   "source": [
    "#going to dataframe and having a first look\n",
    "dataframe = pd.DataFrame(dictlist)\n",
    "print(dataframe.head(5),'\\n\\n', dataframe.tail(5),'\\n')\n",
    "print(type(dataframe),'\\n',dataframe.shape,'\\n',dataframe.dtypes)"
   ]
  },
  {
   "cell_type": "code",
   "execution_count": 35,
   "metadata": {},
   "outputs": [
    {
     "data": {
      "text/plain": [
       "0"
      ]
     },
     "execution_count": 35,
     "metadata": {},
     "output_type": "execute_result"
    }
   ],
   "source": [
    "#Lets check if there are missing values, null, na or nan. There are not! \n",
    "dataframe.isnull().sum().sum()"
   ]
  },
  {
   "cell_type": "code",
   "execution_count": 36,
   "metadata": {},
   "outputs": [
    {
     "data": {
      "text/plain": [
       "1664"
      ]
     },
     "execution_count": 36,
     "metadata": {},
     "output_type": "execute_result"
    }
   ],
   "source": [
    "#We have 1664 distinct client ids \n",
    "len(dataframe.client_id.unique())"
   ]
  },
  {
   "cell_type": "code",
   "execution_count": 37,
   "metadata": {},
   "outputs": [
    {
     "name": "stdout",
     "output_type": "stream",
     "text": [
      "['Button Tap' 'ViewLoaded' 'Vote' 'session.stop' 'App Launch'\n",
      " 'session.start' 'session.resume' 'httpRequestTiming' 'session.pause'\n",
      " 'Ads' 'Daily App Launch' 'Follow' 'Startup Guide Finished' 'Mute'\n",
      " 'Unfollow' 'Search' 'Change Notifications' 'Share' 'iOSVersion' 'Widget'\n",
      " 'Viewing Media Item' 'Matches' 'Notification Settings'\n",
      " 'TreatmentsAllocated' 'Notifications ABTest'] \n",
      " 25\n"
     ]
    }
   ],
   "source": [
    "#And those are the distinct event types\n",
    "print(dataframe.event_type.unique(),'\\n',len(dataframe.event_type.unique()))"
   ]
  },
  {
   "cell_type": "markdown",
   "metadata": {},
   "source": [
    "## First question: \n",
    "A toplist of different event_types where we count number of unique\n",
    "client_ids per event_type"
   ]
  },
  {
   "cell_type": "code",
   "execution_count": 38,
   "metadata": {},
   "outputs": [
    {
     "data": {
      "text/plain": [
       "pandas.core.series.Series"
      ]
     },
     "execution_count": 38,
     "metadata": {},
     "output_type": "execute_result"
    }
   ],
   "source": [
    "clients_per_event = dataframe.groupby('event_type')['client_id'].nunique()\n",
    "type(clients_per_event)"
   ]
  },
  {
   "cell_type": "code",
   "execution_count": 39,
   "metadata": {
    "scrolled": false
   },
   "outputs": [
    {
     "data": {
      "text/plain": [
       "event_type\n",
       "ViewLoaded                1636\n",
       "session.start             1593\n",
       "session.stop              1588\n",
       "App Launch                1516\n",
       "session.pause              683\n",
       "httpRequestTiming          568\n",
       "session.resume             554\n",
       "Ads                        440\n",
       "Daily App Launch           424\n",
       "Button Tap                 317\n",
       "Follow                     137\n",
       "Vote                       124\n",
       "Search                      66\n",
       "Change Notifications        63\n",
       "Mute                        30\n",
       "Unfollow                    22\n",
       "Startup Guide Finished      16\n",
       "iOSVersion                   7\n",
       "Viewing Media Item           6\n",
       "Notifications ABTest         3\n",
       "TreatmentsAllocated          3\n",
       "Notification Settings        2\n",
       "Matches                      1\n",
       "Share                        1\n",
       "Widget                       1\n",
       "Name: client_id, dtype: int64"
      ]
     },
     "execution_count": 39,
     "metadata": {},
     "output_type": "execute_result"
    }
   ],
   "source": [
    "#Here are the distinct event types sorted per number of distinct client id \n",
    "clients_per_event.sort_values(ascending= False)"
   ]
  },
  {
   "cell_type": "code",
   "execution_count": 40,
   "metadata": {},
   "outputs": [
    {
     "data": {
      "text/plain": [
       "event_type\n",
       "ViewLoaded           0.983173\n",
       "session.start        0.957332\n",
       "session.stop         0.954327\n",
       "App Launch           0.911058\n",
       "session.pause        0.410457\n",
       "httpRequestTiming    0.341346\n",
       "session.resume       0.332933\n",
       "Ads                  0.264423\n",
       "Daily App Launch     0.254808\n",
       "Button Tap           0.190505\n",
       "Name: client_id, dtype: float64"
      ]
     },
     "execution_count": 40,
     "metadata": {},
     "output_type": "execute_result"
    }
   ],
   "source": [
    "# A top 10 list in proportion \n",
    "sortedlist = clients_per_event.sort_values(ascending= False)/len(dataframe.client_id.unique())\n",
    "sortedlist.head(10)"
   ]
  },
  {
   "cell_type": "markdown",
   "metadata": {},
   "source": [
    "## Second question:\n",
    "For how long does the median user use the app?"
   ]
  },
  {
   "cell_type": "code",
   "execution_count": 41,
   "metadata": {},
   "outputs": [
    {
     "data": {
      "image/png": "[encoded data removed]",
      "text/plain": [
       "<matplotlib.figure.Figure at 0x24887c62518>"
      ]
     },
     "metadata": {},
     "output_type": "display_data"
    }
   ],
   "source": [
    "#what I made up for puting 0 as the first event we have from a particular user, as example\n",
    "anuser = dataframe[dataframe['client_id']=='f64a315b07']['timestamp']\n",
    "anuser_normsort = ((anuser-anuser.min())/3600000.0).sort_values()\n",
    "anuser_normsort.hist(bins=60 ,xlabelsize=10)\n",
    "plt.show()"
   ]
  },
  {
   "cell_type": "code",
   "execution_count": 42,
   "metadata": {
    "collapsed": true
   },
   "outputs": [],
   "source": [
    "#I want to put it in an array, and take the difference in time between actions\n",
    "anuser_array = anuser_normsort.values\n",
    "diff = anuser_array[1:]-anuser_array[:-1]"
   ]
  },
  {
   "cell_type": "code",
   "execution_count": 46,
   "metadata": {},
   "outputs": [
    {
     "name": "stdout",
     "output_type": "stream",
     "text": [
      "3.539604761904741\n"
     ]
    },
    {
     "data": {
      "image/png": "[encoded data removed]",
      "text/plain": [
       "<matplotlib.figure.Figure at 0x24887686198>"
      ]
     },
     "metadata": {},
     "output_type": "display_data"
    }
   ],
   "source": [
    "#Now, for an user, I can obtain the mean time in the app, considering that no action during 30 min implies no use\n",
    "#Without kwoing more details about the app, I can not judge if 30 minutes is reasonable; maybe 10 o even 5 minutes of \n",
    "#no activity is already a new login, and the results can change a lot... alterate the command \"sep\" with the number \n",
    "#of minutes you consider reasonable for a \"new use of the app\"\n",
    "j = 1\n",
    "smallsum = 0\n",
    "bigsum = 0\n",
    "sep = 30 \n",
    "for i in diff:\n",
    "    if i < (sep/60):\n",
    "        smallsum=smallsum+i\n",
    "    else:\n",
    "        bigsum=bigsum+smallsum\n",
    "        j=j+1\n",
    "        smallsum=0\n",
    "usermean=(bigsum+smallsum)/j\n",
    "print(usermean*60)#This is in minutes\n",
    "\n",
    "#To see the differences in time\n",
    "pd.Series(diff).hist(bins=244 ,xlabelsize=10)\n",
    "plt.show()"
   ]
  },
  {
   "cell_type": "markdown",
   "metadata": {},
   "source": [
    "The previous was a particular case for me to understand the data and identify potential problems. Now, we generalize:"
   ]
  },
  {
   "cell_type": "code",
   "execution_count": 20,
   "metadata": {},
   "outputs": [
    {
     "data": {
      "text/plain": [
       "array(['26a27236a1', '51c987d5b1', 'ec2732ad92', ..., 'eae1b78e21',\n",
       "       '0be4297e69', '69a6dda770'], dtype=object)"
      ]
     },
     "execution_count": 20,
     "metadata": {},
     "output_type": "execute_result"
    }
   ],
   "source": [
    "dataframe['client_id'].unique()"
   ]
  },
  {
   "cell_type": "code",
   "execution_count": 21,
   "metadata": {
    "collapsed": true
   },
   "outputs": [],
   "source": [
    "#for any particular user\n",
    "#As a rule of thumb and with some robutness criterias, I have end up considering inactivity of more than 5 minutes\n",
    "#as new ussage\n",
    "usermeanlist = []\n",
    "for i in dataframe['client_id'].unique():\n",
    "    anuser = dataframe[dataframe['client_id']== i ]['timestamp']\n",
    "    anuser_normsort = ((anuser-anuser.min())/3600000.0).sort_values()\n",
    "    anuser_array = anuser_normsort.values\n",
    "    diff = anuser_array[1:]-anuser_array[:-1]\n",
    "    j = 1\n",
    "    smallsum = 0\n",
    "    bigsum = 0\n",
    "    sep = 5 #This parameter is the numer of minutes of innactivity we allow until consider \"new ussage\"\n",
    "    for k in diff:\n",
    "        if k < (sep/60):\n",
    "            smallsum=smallsum+k\n",
    "        else:\n",
    "            bigsum=bigsum+smallsum\n",
    "            j=j+1\n",
    "            smallsum=0\n",
    "    usermean=(bigsum+smallsum)/j\n",
    "    usermeanlist.append(usermean*60) #to have it in minutes"
   ]
  },
  {
   "cell_type": "code",
   "execution_count": 22,
   "metadata": {},
   "outputs": [
    {
     "name": "stdout",
     "output_type": "stream",
     "text": [
      "1.505173482441408 1.6784430543253663\n"
     ]
    }
   ],
   "source": [
    "#I calculate the mean and standard deviation, to have an idea of the scale and robustness\n",
    "a = np.array(usermeanlist).mean()\n",
    "b = np.array(usermeanlist).std()\n",
    "print(a,b)"
   ]
  },
  {
   "cell_type": "code",
   "execution_count": 23,
   "metadata": {},
   "outputs": [
    {
     "data": {
      "image/png": "[encoded data removed]",
      "text/plain": [
       "<matplotlib.figure.Figure at 0x248f17700b8>"
      ]
     },
     "metadata": {},
     "output_type": "display_data"
    }
   ],
   "source": [
    "#To see the differences in time. It is exponential, that was expected.\n",
    "pd.Series(usermeanlist).hist(bins=80 ,xlabelsize=10)\n",
    "plt.show()"
   ]
  },
  {
   "cell_type": "code",
   "execution_count": 24,
   "metadata": {},
   "outputs": [
    {
     "name": "stdout",
     "output_type": "stream",
     "text": [
      "Median time an user uses the app:  1.0218673611111102  minutes\n"
     ]
    }
   ],
   "source": [
    "#This is the median time an user uses the app, in minutes\n",
    "print('Median time an user uses the app: ',np.median(usermeanlist), ' minutes')"
   ]
  }
 ],
 "metadata": {
  "kernelspec": {
   "display_name": "Python 3",
   "language": "python",
   "name": "python3"
  },
  "language_info": {
   "codemirror_mode": {
    "name": "ipython",
    "version": 3
   },
   "file_extension": ".py",
   "mimetype": "text/x-python",
   "name": "python",
   "nbconvert_exporter": "python",
   "pygments_lexer": "ipython3",
   "version": "3.6.3"
  }
 },
 "nbformat": 4,
 "nbformat_minor": 2
}
